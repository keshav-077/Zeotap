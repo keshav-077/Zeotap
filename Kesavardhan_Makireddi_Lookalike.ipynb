{
  "nbformat": 4,
  "nbformat_minor": 0,
  "metadata": {
    "colab": {
      "provenance": []
    },
    "kernelspec": {
      "name": "python3",
      "display_name": "Python 3"
    },
    "language_info": {
      "name": "python"
    }
  },
  "cells": [
    {
      "cell_type": "code",
      "execution_count": 1,
      "metadata": {
        "id": "HRPNth18VRGW"
      },
      "outputs": [],
      "source": [
        "import pandas as pd\n",
        "from sklearn.preprocessing import StandardScaler\n",
        "from sklearn.metrics.pairwise import cosine_similarity"
      ]
    },
    {
      "cell_type": "code",
      "source": [
        "# Load datasets\n",
        "customers = pd.read_csv('Customers.csv')\n",
        "products = pd.read_csv('Products.csv')\n",
        "transactions = pd.read_csv('Transactions.csv')"
      ],
      "metadata": {
        "id": "a5I6qBCtWs9G"
      },
      "execution_count": 2,
      "outputs": []
    },
    {
      "cell_type": "code",
      "source": [
        "# Merge datasets\n",
        "transactions = transactions.merge(customers, on='CustomerID', how='left')\n",
        "transactions = transactions.merge(products, on='ProductID', how='left')"
      ],
      "metadata": {
        "id": "UWh71FHOW5Vj"
      },
      "execution_count": 3,
      "outputs": []
    },
    {
      "cell_type": "code",
      "source": [
        "# Feature Engineering: Create a customer-product interaction matrix\n",
        "customer_product_matrix = transactions.pivot_table(\n",
        "    index='CustomerID',\n",
        "    columns='ProductID',\n",
        "    values='Quantity',\n",
        "    aggfunc='sum',\n",
        "    fill_value=0\n",
        ")"
      ],
      "metadata": {
        "id": "EQsLWOqNW8wT"
      },
      "execution_count": 4,
      "outputs": []
    },
    {
      "cell_type": "code",
      "source": [
        "# Standardize the matrix for similarity computation\n",
        "scaler = StandardScaler()\n",
        "customer_product_matrix_scaled = scaler.fit_transform(customer_product_matrix)"
      ],
      "metadata": {
        "id": "2bgBW18GXAGg"
      },
      "execution_count": 5,
      "outputs": []
    },
    {
      "cell_type": "code",
      "source": [
        "# Compute cosine similarity\n",
        "similarity_matrix = cosine_similarity(customer_product_matrix_scaled)"
      ],
      "metadata": {
        "id": "KJeIob7TXDNu"
      },
      "execution_count": 6,
      "outputs": []
    },
    {
      "cell_type": "code",
      "source": [
        "# Create a DataFrame for similarity scores\n",
        "similarity_df = pd.DataFrame(\n",
        "    similarity_matrix,\n",
        "    index=customer_product_matrix.index,\n",
        "    columns=customer_product_matrix.index\n",
        ")"
      ],
      "metadata": {
        "id": "6xNBTrFLXFrM"
      },
      "execution_count": 7,
      "outputs": []
    },
    {
      "cell_type": "code",
      "source": [
        "# Get top 3 lookalikes for the first 20 customers (CustomerID: C0001 - C0020)\n",
        "lookalike_map = {}\n",
        "for customer in customers['CustomerID'][:20]:\n",
        "    if customer in similarity_df.index:\n",
        "        # Sort other customers by similarity score (excluding the customer itself)\n",
        "        similar_customers = similarity_df.loc[customer].sort_values(ascending=False)\n",
        "        top_3 = similar_customers.iloc[1:4]  # Skip the first as it's the customer itself\n",
        "        lookalike_map[customer] = [(cust_id, round(score, 2)) for cust_id, score in top_3.items()]"
      ],
      "metadata": {
        "id": "0qWHlPvCXIFZ"
      },
      "execution_count": 8,
      "outputs": []
    },
    {
      "cell_type": "code",
      "source": [
        "# Convert to Lookalike.csv format\n",
        "lookalike_csv = []\n",
        "for cust_id, lookalikes in lookalike_map.items():\n",
        "    for lookalike_id, score in lookalikes:\n",
        "        lookalike_csv.append({'cust_id': cust_id, 'lookalike_id': lookalike_id, 'score': score})\n",
        "\n",
        "lookalike_df = pd.DataFrame(lookalike_csv)\n",
        "lookalike_df.to_csv('Lookalike.csv', index=False)\n",
        "\n",
        "print(\"Lookalike recommendations saved to 'Lookalike.csv'\")"
      ],
      "metadata": {
        "colab": {
          "base_uri": "https://localhost:8080/"
        },
        "id": "soEjEQRLXvlz",
        "outputId": "bc4fdc0c-b13d-4538-c2e7-befa93ae0ea3"
      },
      "execution_count": 9,
      "outputs": [
        {
          "output_type": "stream",
          "name": "stdout",
          "text": [
            "Lookalike recommendations saved to 'Lookalike.csv'\n"
          ]
        }
      ]
    },
    {
      "cell_type": "code",
      "source": [],
      "metadata": {
        "id": "kgL6DOMgXz7S"
      },
      "execution_count": null,
      "outputs": []
    }
  ]
}